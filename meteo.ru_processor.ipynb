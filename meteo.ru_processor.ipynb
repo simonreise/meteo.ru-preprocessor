{
 "cells": [
  {
   "cell_type": "markdown",
   "id": "terminal-locking",
   "metadata": {},
   "source": [
    "# Препроцессор данных с сайта meteo.ru\n",
    "В следующей ячейке в переменную path замените путь к архиву на путь к вашему архиву с данными\n",
    "Если Вам нужны данные в CSV, переменная excel должна быть равна False, если нужны данные в XLSX - должна быть равна True\n",
    "Затем поочередно запустите обе ячейки скрипта\n",
    "Итог работы скрипта - файл, который будет сохранен в ту же папку, где находится архив"
   ]
  },
  {
   "cell_type": "code",
   "execution_count": null,
   "id": "superb-earth",
   "metadata": {},
   "outputs": [],
   "source": [
    "path = r'C:\\Users\\username\\Downloads\\wr60664.zip'\n",
    "excel = False"
   ]
  },
  {
   "cell_type": "code",
   "execution_count": null,
   "id": "suffering-blend",
   "metadata": {},
   "outputs": [],
   "source": [
    "import zipfile\n",
    "import tempfile\n",
    "import re\n",
    "from glob import glob\n",
    "import pandas as pd\n",
    "\n",
    "\n",
    "temp_dir = tempfile.TemporaryDirectory()\n",
    "with zipfile.ZipFile(path, 'r') as zip_ref:\n",
    "    zip_ref.extractall(temp_dir.name)\n",
    "files = glob(temp_dir.name + r'\\*')\n",
    "fld = next(x for x in files if re.search('fld\\d', x) != None)\n",
    "fldf = open(fld)\n",
    "fld = fldf.read()\n",
    "fldf.close()\n",
    "for i in range(0,50):\n",
    "    fld = fld.replace('  ', ' ')\n",
    "fld = re.split('\\n', fld)\n",
    "del fld[-1]\n",
    "columns = []\n",
    "for i in fld:\n",
    "    col = re.split('\\d', i)\n",
    "    col = col[-1]\n",
    "    col = col[1:]\n",
    "    columns.append(col)\n",
    "statlist = next(x for x in files if re.search('statlist\\d', x) != None)\n",
    "statf = open(statlist)\n",
    "statlist = statf.read()\n",
    "statf.close()\n",
    "statlist\n",
    "for i in range(0,50):\n",
    "    statlist = statlist.replace('  ', ' ')\n",
    "statlist = re.split('\\n', statlist)\n",
    "del statlist[-1]\n",
    "statlist\n",
    "stations = {}\n",
    "for i in statlist:\n",
    "    st = re.split(' ', i, maxsplit=1)\n",
    "    stations[st[0]] = st[1]\n",
    "wr = pd.read_csv(next(x for x in files if re.search('wr\\d', x) != None), sep = ';', header = None, names= columns)\n",
    "wr['Станция'] = wr.apply(lambda row: stations[str(int(row['Индекс ВМО']))], axis = 1)\n",
    "cols = list(wr)\n",
    "cols.insert(0, cols.pop(cols.index('Станция')))\n",
    "wr = wr.loc[:, cols]\n",
    "temp_dir.cleanup()\n",
    "if excel == True:\n",
    "    final_path = path.replace('.zip', '.xlsx')\n",
    "    wr.to_excel(final_path)\n",
    "else:\n",
    "    final_path = path.replace('.zip', '.csv')\n",
    "    wr.to_csv(final_path)    \n",
    "wr"
   ]
  }
 ],
 "metadata": {
  "kernelspec": {
   "display_name": "Python 3",
   "language": "python",
   "name": "python3"
  },
  "language_info": {
   "codemirror_mode": {
    "name": "ipython",
    "version": 3
   },
   "file_extension": ".py",
   "mimetype": "text/x-python",
   "name": "python",
   "nbconvert_exporter": "python",
   "pygments_lexer": "ipython3",
   "version": "3.7.10"
  }
 },
 "nbformat": 4,
 "nbformat_minor": 5
}
